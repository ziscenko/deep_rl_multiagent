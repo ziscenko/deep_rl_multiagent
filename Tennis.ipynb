{
 "cells": [
  {
   "cell_type": "markdown",
   "metadata": {},
   "source": [
    "# Collaboration and Competition\n",
    "\n",
    "---\n",
    "\n",
    "In this notebook, you will learn how to use the Unity ML-Agents environment for the third project of the [Deep Reinforcement Learning Nanodegree](https://www.udacity.com/course/deep-reinforcement-learning-nanodegree--nd893) program.\n",
    "\n",
    "### 1. Start the Environment\n",
    "\n",
    "We begin by installing and importing the necessary packages.  If the code cell below returns an error, please revisit the project instructions to double-check that you have installed [Unity ML-Agents](https://github.com/Unity-Technologies/ml-agents/blob/master/docs/Installation.md) and [NumPy](http://www.numpy.org/)."
   ]
  },
  {
   "cell_type": "code",
   "execution_count": 1,
   "metadata": {},
   "outputs": [
    {
     "name": "stderr",
     "output_type": "stream",
     "text": [
      "ERROR: Could not open requirements file: [Errno 2] No such file or directory: 'requirements.txt'\n"
     ]
    }
   ],
   "source": [
    "#installing dependencies\n",
    "!pip -q install -r requirements.txt"
   ]
  },
  {
   "cell_type": "code",
   "execution_count": 2,
   "metadata": {},
   "outputs": [],
   "source": [
    "from maddpg_agents import MultiAgent\n",
    "from collections import deque\n",
    "import matplotlib.pyplot as plt\n",
    "import numpy as np\n",
    "import random\n",
    "import time\n",
    "import torch\n",
    "from unityagents import UnityEnvironment\n",
    "\n",
    "%matplotlib inline"
   ]
  },
  {
   "cell_type": "markdown",
   "metadata": {},
   "source": [
    "Next, we will start the environment!  **_Before running the code cell below_**, change the `file_name` parameter to match the location of the Unity environment that you downloaded.\n",
    "\n",
    "- **Mac**: `\"path/to/Tennis.app\"`\n",
    "- **Windows** (x86): `\"path/to/Tennis_Windows_x86/Tennis.exe\"`\n",
    "- **Windows** (x86_64): `\"path/to/Tennis_Windows_x86_64/Tennis.exe\"`\n",
    "- **Linux** (x86): `\"path/to/Tennis_Linux/Tennis.x86\"`\n",
    "- **Linux** (x86_64): `\"path/to/Tennis_Linux/Tennis.x86_64\"`\n",
    "- **Linux** (x86, headless): `\"path/to/Tennis_Linux_NoVis/Tennis.x86\"`\n",
    "- **Linux** (x86_64, headless): `\"path/to/Tennis_Linux_NoVis/Tennis.x86_64\"`\n",
    "\n",
    "For instance, if you are using a Mac, then you downloaded `Tennis.app`.  If this file is in the same folder as the notebook, then the line below should appear as follows:\n",
    "```\n",
    "env = UnityEnvironment(file_name=\"Tennis.app\")\n",
    "```"
   ]
  },
  {
   "cell_type": "code",
   "execution_count": 4,
   "metadata": {},
   "outputs": [
    {
     "name": "stderr",
     "output_type": "stream",
     "text": [
      "INFO:unityagents:\n",
      "'Academy' started successfully!\n",
      "Unity Academy name: Academy\n",
      "        Number of Brains: 1\n",
      "        Number of External Brains : 1\n",
      "        Lesson number : 0\n",
      "        Reset Parameters :\n",
      "\t\t\n",
      "Unity brain name: TennisBrain\n",
      "        Number of Visual Observations (per agent): 0\n",
      "        Vector Observation space type: continuous\n",
      "        Vector Observation space size (per agent): 8\n",
      "        Number of stacked Vector Observation: 3\n",
      "        Vector Action space type: continuous\n",
      "        Vector Action space size (per agent): 2\n",
      "        Vector Action descriptions: , \n"
     ]
    }
   ],
   "source": [
    "env = UnityEnvironment(file_name=\"./Tennis_Windows_x86_64/Tennis.exe\")"
   ]
  },
  {
   "cell_type": "markdown",
   "metadata": {},
   "source": [
    "Environments contain **_brains_** which are responsible for deciding the actions of their associated agents. Here we check for the first brain available, and set it as the default brain we will be controlling from Python."
   ]
  },
  {
   "cell_type": "code",
   "execution_count": 5,
   "metadata": {},
   "outputs": [],
   "source": [
    "# get the default brain\n",
    "brain_name = env.brain_names[0]\n",
    "brain = env.brains[brain_name]"
   ]
  },
  {
   "cell_type": "markdown",
   "metadata": {},
   "source": [
    "### 2. Examine the State and Action Spaces\n",
    "\n",
    "In this environment, two agents control rackets to bounce a ball over a net. If an agent hits the ball over the net, it receives a reward of +0.1.  If an agent lets a ball hit the ground or hits the ball out of bounds, it receives a reward of -0.01.  Thus, the goal of each agent is to keep the ball in play.\n",
    "\n",
    "The observation space consists of 8 variables corresponding to the position and velocity of the ball and racket. Two continuous actions are available, corresponding to movement toward (or away from) the net, and jumping. \n",
    "\n",
    "Run the code cell below to print some information about the environment."
   ]
  },
  {
   "cell_type": "code",
   "execution_count": 6,
   "metadata": {},
   "outputs": [
    {
     "name": "stdout",
     "output_type": "stream",
     "text": [
      "Number of agents: 2\n",
      "Size of each action: 2\n",
      "There are 2 agents. Each observes a state with length: 24\n",
      "The state for the first agent looks like: [ 0.          0.          0.          0.          0.          0.\n",
      "  0.          0.          0.          0.          0.          0.\n",
      "  0.          0.          0.          0.         -6.65278625 -1.5\n",
      " -0.          0.          6.83172083  6.         -0.          0.        ]\n"
     ]
    }
   ],
   "source": [
    "# reset the environment\n",
    "env_info = env.reset(train_mode=True)[brain_name]\n",
    "\n",
    "# number of agents \n",
    "num_agents = len(env_info.agents)\n",
    "print('Number of agents:', num_agents)\n",
    "\n",
    "# size of each action\n",
    "action_size = brain.vector_action_space_size\n",
    "print('Size of each action:', action_size)\n",
    "\n",
    "# examine the state space \n",
    "states = env_info.vector_observations\n",
    "state_size = states.shape[1]\n",
    "print('There are {} agents. Each observes a state with length: {}'.format(states.shape[0], state_size))\n",
    "print('The state for the first agent looks like:', states[0])"
   ]
  },
  {
   "cell_type": "markdown",
   "metadata": {},
   "source": [
    "### 3. Train the agents\n",
    "\n",
    "When training the environment, set `train_mode=True`, so that the line for resetting the environment looks like the following:\n",
    "```python\n",
    "env_info = env.reset(train_mode=True)[brain_name]\n",
    "```"
   ]
  },
  {
   "cell_type": "code",
   "execution_count": 7,
   "metadata": {},
   "outputs": [],
   "source": [
    "SOLVED_SCORE = 0.5\n",
    "CONSEC_EPISODES = 100\n",
    "PRINT_EVERY = 10\n",
    "ADD_NOISE = True\n",
    "BUILD_BUFFER = 100"
   ]
  },
  {
   "cell_type": "code",
   "execution_count": 8,
   "metadata": {},
   "outputs": [],
   "source": [
    "multi_agent = MultiAgent(state_size, action_size, num_agents=2, random_seed=33)"
   ]
  },
  {
   "cell_type": "code",
   "execution_count": 9,
   "metadata": {},
   "outputs": [],
   "source": [
    "def maddpg(n_episodes=2000, max_t=1000):\n",
    "    \"\"\"Multi-Agent Deep Deterministic Policy Gradient (MADDPG)\n",
    "    \n",
    "    Params\n",
    "    ======\n",
    "        n_episodes (int)      : maximum number of training episodes\n",
    "        max_t (int)           : maximum number of timesteps per episode\n",
    "    \"\"\"\n",
    "    scores_window = deque(maxlen=CONSEC_EPISODES)\n",
    "    scores_all = []\n",
    "    moving_average = []\n",
    "    already_solved = False    \n",
    "\n",
    "    for i_episode in range(1, n_episodes+1):\n",
    "        env_info = env.reset(train_mode=True)[brain_name]         # reset the environment\n",
    "        states = np.reshape(env_info.vector_observations, (1,48)) # get states and combine them\n",
    "        multi_agent.reset()\n",
    "        scores = np.zeros(num_agents)\n",
    "        while True:\n",
    "            if i_episode < BUILD_BUFFER:\n",
    "                actions = (2 * np.random.rand(2, action_size) - 1.0).flatten()\n",
    "            else:\n",
    "                actions = multi_agent.get_actions(states, ADD_NOISE)           # choose agent actions and combine them\n",
    "            env_info = env.step(actions)[brain_name]           # send both agents' actions together to the environment\n",
    "            next_states = np.reshape(env_info.vector_observations, (1, 48)) # combine the agent next states\n",
    "            rewards = env_info.rewards                         # get reward\n",
    "            done = env_info.local_done                         # see if episode finished\n",
    "            multi_agent.step(states, actions, rewards, next_states, done) #both agents learn\n",
    "            scores += np.max(rewards)                          # update the score for each agent\n",
    "            states = next_states                               # roll over states to next time step\n",
    "            if np.any(done):                                   # exit loop if episode finished\n",
    "                break\n",
    "\n",
    "        ep_best_score = np.max(scores)\n",
    "        scores_window.append(ep_best_score)\n",
    "        scores_all.append(ep_best_score)\n",
    "        moving_average.append(np.mean(scores_window))\n",
    "\n",
    "        # print results\n",
    "        if i_episode % PRINT_EVERY == 0:\n",
    "            print('Episodes {:d}-{:d}\\tMax Reward: {:.3f}\\tMoving Average: {:.3f}'.format(\n",
    "                i_episode-PRINT_EVERY, i_episode, np.max(scores_all[-PRINT_EVERY:]), moving_average[-1]))\n",
    "\n",
    "        # determine if environment is solved and keep best performing models\n",
    "        if moving_average[-1] >= SOLVED_SCORE:\n",
    "            print('<-- Environment solved in {:d} episodes! \\\n",
    "            \\n<-- Moving Average: {:.3f} over past {:d} episodes'.format(\n",
    "                i_episode, moving_average[-1], CONSEC_EPISODES))\n",
    "            # save weights\n",
    "            torch.save(multi_agent.maddpg_agents[0].actor_local.state_dict(), 'checkpoint_actor_0.pth')\n",
    "            torch.save(multi_agent.maddpg_agents[0].critic_local.state_dict(), 'checkpoint_critic_0.pth')\n",
    "            torch.save(multi_agent.maddpg_agents[1].actor_local.state_dict(), 'checkpoint_actor_1.pth')\n",
    "            torch.save(multi_agent.maddpg_agents[1].critic_local.state_dict(), 'checkpoint_critic_1.pth')\n",
    "            break\n",
    "            \n",
    "    return scores_all, moving_average"
   ]
  },
  {
   "cell_type": "code",
   "execution_count": 10,
   "metadata": {},
   "outputs": [
    {
     "name": "stdout",
     "output_type": "stream",
     "text": [
      "Episodes 0-10\tMax Reward: 0.000\tMoving Average: 0.000\n",
      "Episodes 10-20\tMax Reward: 0.100\tMoving Average: 0.010\n",
      "Episodes 20-30\tMax Reward: 0.100\tMoving Average: 0.010\n",
      "Episodes 30-40\tMax Reward: 0.100\tMoving Average: 0.010\n",
      "Episodes 40-50\tMax Reward: 0.100\tMoving Average: 0.016\n",
      "Episodes 50-60\tMax Reward: 0.300\tMoving Average: 0.022\n",
      "Episodes 60-70\tMax Reward: 0.100\tMoving Average: 0.023\n",
      "Episodes 70-80\tMax Reward: 0.200\tMoving Average: 0.026\n",
      "Episodes 80-90\tMax Reward: 0.100\tMoving Average: 0.026\n",
      "Episodes 90-100\tMax Reward: 0.200\tMoving Average: 0.025\n",
      "Episodes 100-110\tMax Reward: 0.000\tMoving Average: 0.025\n",
      "Episodes 110-120\tMax Reward: 0.000\tMoving Average: 0.023\n",
      "Episodes 120-130\tMax Reward: 0.000\tMoving Average: 0.022\n",
      "Episodes 130-140\tMax Reward: 0.000\tMoving Average: 0.021\n",
      "Episodes 140-150\tMax Reward: 0.000\tMoving Average: 0.017\n",
      "Episodes 150-160\tMax Reward: 0.000\tMoving Average: 0.012\n",
      "Episodes 160-170\tMax Reward: 0.000\tMoving Average: 0.009\n",
      "Episodes 170-180\tMax Reward: 0.000\tMoving Average: 0.004\n",
      "Episodes 180-190\tMax Reward: 0.000\tMoving Average: 0.002\n",
      "Episodes 190-200\tMax Reward: 0.000\tMoving Average: 0.000\n",
      "Episodes 200-210\tMax Reward: 0.100\tMoving Average: 0.002\n",
      "Episodes 210-220\tMax Reward: 0.100\tMoving Average: 0.003\n",
      "Episodes 220-230\tMax Reward: 0.100\tMoving Average: 0.005\n",
      "Episodes 230-240\tMax Reward: 0.100\tMoving Average: 0.007\n",
      "Episodes 240-250\tMax Reward: 0.100\tMoving Average: 0.008\n",
      "Episodes 250-260\tMax Reward: 0.100\tMoving Average: 0.009\n",
      "Episodes 260-270\tMax Reward: 0.100\tMoving Average: 0.010\n",
      "Episodes 270-280\tMax Reward: 0.100\tMoving Average: 0.012\n",
      "Episodes 280-290\tMax Reward: 0.300\tMoving Average: 0.021\n",
      "Episodes 290-300\tMax Reward: 0.100\tMoving Average: 0.025\n",
      "Episodes 300-310\tMax Reward: 0.100\tMoving Average: 0.027\n",
      "Episodes 310-320\tMax Reward: 0.300\tMoving Average: 0.038\n",
      "Episodes 320-330\tMax Reward: 0.100\tMoving Average: 0.043\n",
      "Episodes 330-340\tMax Reward: 0.100\tMoving Average: 0.047\n",
      "Episodes 340-350\tMax Reward: 0.300\tMoving Average: 0.055\n",
      "Episodes 350-360\tMax Reward: 0.200\tMoving Average: 0.062\n",
      "Episodes 360-370\tMax Reward: 0.100\tMoving Average: 0.068\n",
      "Episodes 370-380\tMax Reward: 0.300\tMoving Average: 0.078\n",
      "Episodes 380-390\tMax Reward: 0.200\tMoving Average: 0.079\n",
      "Episodes 390-400\tMax Reward: 0.100\tMoving Average: 0.083\n",
      "Episodes 400-410\tMax Reward: 0.100\tMoving Average: 0.086\n",
      "Episodes 410-420\tMax Reward: 0.100\tMoving Average: 0.084\n",
      "Episodes 420-430\tMax Reward: 0.100\tMoving Average: 0.084\n",
      "Episodes 430-440\tMax Reward: 0.100\tMoving Average: 0.086\n",
      "Episodes 440-450\tMax Reward: 0.100\tMoving Average: 0.086\n",
      "Episodes 450-460\tMax Reward: 0.100\tMoving Average: 0.085\n",
      "Episodes 460-470\tMax Reward: 0.300\tMoving Average: 0.092\n",
      "Episodes 470-480\tMax Reward: 0.200\tMoving Average: 0.088\n",
      "Episodes 480-490\tMax Reward: 0.500\tMoving Average: 0.097\n",
      "Episodes 490-500\tMax Reward: 0.200\tMoving Average: 0.099\n",
      "Episodes 500-510\tMax Reward: 0.300\tMoving Average: 0.104\n",
      "Episodes 510-520\tMax Reward: 0.100\tMoving Average: 0.103\n",
      "Episodes 520-530\tMax Reward: 0.300\tMoving Average: 0.111\n",
      "Episodes 530-540\tMax Reward: 0.300\tMoving Average: 0.119\n",
      "Episodes 540-550\tMax Reward: 0.200\tMoving Average: 0.122\n",
      "Episodes 550-560\tMax Reward: 0.500\tMoving Average: 0.132\n",
      "Episodes 560-570\tMax Reward: 0.500\tMoving Average: 0.137\n",
      "Episodes 570-580\tMax Reward: 0.300\tMoving Average: 0.147\n",
      "Episodes 580-590\tMax Reward: 0.500\tMoving Average: 0.147\n",
      "Episodes 590-600\tMax Reward: 0.600\tMoving Average: 0.158\n",
      "Episodes 600-610\tMax Reward: 0.400\tMoving Average: 0.167\n",
      "Episodes 610-620\tMax Reward: 0.600\tMoving Average: 0.179\n",
      "Episodes 620-630\tMax Reward: 0.300\tMoving Average: 0.176\n",
      "Episodes 630-640\tMax Reward: 0.200\tMoving Average: 0.171\n",
      "Episodes 640-650\tMax Reward: 0.300\tMoving Average: 0.172\n",
      "Episodes 650-660\tMax Reward: 0.200\tMoving Average: 0.166\n",
      "Episodes 660-670\tMax Reward: 0.400\tMoving Average: 0.161\n",
      "Episodes 670-680\tMax Reward: 0.400\tMoving Average: 0.153\n",
      "Episodes 680-690\tMax Reward: 0.600\tMoving Average: 0.154\n",
      "Episodes 690-700\tMax Reward: 0.400\tMoving Average: 0.145\n",
      "Episodes 700-710\tMax Reward: 0.600\tMoving Average: 0.144\n",
      "Episodes 710-720\tMax Reward: 1.100\tMoving Average: 0.146\n",
      "Episodes 720-730\tMax Reward: 0.500\tMoving Average: 0.151\n",
      "Episodes 730-740\tMax Reward: 0.700\tMoving Average: 0.160\n",
      "Episodes 740-750\tMax Reward: 0.400\tMoving Average: 0.166\n",
      "Episodes 750-760\tMax Reward: 0.600\tMoving Average: 0.183\n",
      "Episodes 760-770\tMax Reward: 1.100\tMoving Average: 0.195\n",
      "Episodes 770-780\tMax Reward: 0.300\tMoving Average: 0.202\n",
      "Episodes 780-790\tMax Reward: 0.300\tMoving Average: 0.196\n",
      "Episodes 790-800\tMax Reward: 0.300\tMoving Average: 0.204\n",
      "Episodes 800-810\tMax Reward: 0.400\tMoving Average: 0.198\n",
      "Episodes 810-820\tMax Reward: 0.490\tMoving Average: 0.199\n",
      "Episodes 820-830\tMax Reward: 0.300\tMoving Average: 0.198\n",
      "Episodes 830-840\tMax Reward: 0.900\tMoving Average: 0.200\n",
      "Episodes 840-850\tMax Reward: 0.800\tMoving Average: 0.207\n",
      "Episodes 850-860\tMax Reward: 0.600\tMoving Average: 0.200\n",
      "Episodes 860-870\tMax Reward: 0.200\tMoving Average: 0.187\n",
      "Episodes 870-880\tMax Reward: 0.500\tMoving Average: 0.195\n",
      "Episodes 880-890\tMax Reward: 0.500\tMoving Average: 0.200\n",
      "Episodes 890-900\tMax Reward: 1.000\tMoving Average: 0.209\n",
      "Episodes 900-910\tMax Reward: 0.500\tMoving Average: 0.211\n",
      "Episodes 910-920\tMax Reward: 0.600\tMoving Average: 0.207\n",
      "Episodes 920-930\tMax Reward: 0.900\tMoving Average: 0.213\n",
      "Episodes 930-940\tMax Reward: 5.200\tMoving Average: 0.281\n",
      "Episodes 940-950\tMax Reward: 0.500\tMoving Average: 0.275\n",
      "Episodes 950-960\tMax Reward: 2.200\tMoving Average: 0.301\n",
      "Episodes 960-970\tMax Reward: 0.700\tMoving Average: 0.308\n",
      "Episodes 970-980\tMax Reward: 0.700\tMoving Average: 0.305\n",
      "Episodes 980-990\tMax Reward: 1.000\tMoving Average: 0.324\n",
      "Episodes 990-1000\tMax Reward: 3.000\tMoving Average: 0.395\n",
      "Episodes 1000-1010\tMax Reward: 2.400\tMoving Average: 0.454\n",
      "<-- Environment solved in 1014 episodes!             \n",
      "<-- Moving Average: 0.504 over past 100 episodes\n"
     ]
    }
   ],
   "source": [
    "scores, avg = maddpg(5000, 2000)"
   ]
  },
  {
   "cell_type": "code",
   "execution_count": 11,
   "metadata": {},
   "outputs": [
    {
     "data": {
      "image/png": "[encoded data removed]",
      "text/plain": [
       "<Figure size 432x288 with 1 Axes>"
      ]
     },
     "metadata": {
      "needs_background": "light"
     },
     "output_type": "display_data"
    }
   ],
   "source": [
    "fig = plt.figure()\n",
    "ax = fig.add_subplot(111)\n",
    "plt.plot(range(len(scores)), scores, label='Score')\n",
    "plt.plot(range(len(scores)), avg, label='100-episode moving average')\n",
    "plt.ylabel('Score')\n",
    "plt.xlabel('Episode #')\n",
    "plt.legend(loc='upper left');\n",
    "plt.show()"
   ]
  },
  {
   "cell_type": "code",
   "execution_count": 12,
   "metadata": {},
   "outputs": [],
   "source": [
    "fig.savefig('tennis_result2.png')"
   ]
  },
  {
   "cell_type": "code",
   "execution_count": 13,
   "metadata": {},
   "outputs": [],
   "source": [
    "env.close()"
   ]
  }
 ],
 "metadata": {
  "kernelspec": {
   "display_name": "Python 3",
   "language": "python",
   "name": "python3"
  },
  "language_info": {
   "codemirror_mode": {
    "name": "ipython",
    "version": 3
   },
   "file_extension": ".py",
   "mimetype": "text/x-python",
   "name": "python",
   "nbconvert_exporter": "python",
   "pygments_lexer": "ipython3",
   "version": "3.8.3"
  }
 },
 "nbformat": 4,
 "nbformat_minor": 4
}
